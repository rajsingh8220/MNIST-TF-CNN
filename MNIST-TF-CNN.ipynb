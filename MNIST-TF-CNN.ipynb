{
 "cells": [
  {
   "cell_type": "code",
   "execution_count": 5,
   "metadata": {},
   "outputs": [
    {
     "name": "stdout",
     "output_type": "stream",
     "text": [
      "Extracting MNIST_data\\train-images-idx3-ubyte.gz\n",
      "Extracting MNIST_data\\train-labels-idx1-ubyte.gz\n",
      "Extracting MNIST_data\\t10k-images-idx3-ubyte.gz\n",
      "Extracting MNIST_data\\t10k-labels-idx1-ubyte.gz\n"
     ]
    }
   ],
   "source": [
    "import tensorflow as tf\n",
    "from tensorflow.examples.tutorials.mnist import input_data\n",
    "\n",
    "mnist_data = input_data.read_data_sets('MNIST_data', one_hot=True)\n",
    "\n",
    "\n",
    "# Function to create a weight neuron using a random number. Training will assign a real weight later\n",
    "def weight_variable(shape, name):\n",
    "    initial = tf.truncated_normal(shape, stddev=0.1)\n",
    "    return tf.Variable(initial, name=name)\n",
    "\n",
    "\n",
    "# Function to create a bias neuron. Bias of 0.1 will help to prevent any 1 neuron from being chosen too often\n",
    "def biases_variable(shape, name):\n",
    "    initial = tf.constant(0.1, shape=shape)\n",
    "    return tf.Variable(initial, name=name)\n",
    "\n",
    "\n",
    "# Function to create a convolutional neuron. Convolutes input from 4d to 2d. This helps streamline inputs\n",
    "def conv_2d(x, W, name):\n",
    "    return tf.nn.conv2d(x, W, strides=[1, 1, 1, 1], padding='SAME', name=name)\n",
    "\n",
    "\n",
    "# Function to create a neuron to represent the max input. Helps to make the best prediction for what comes next\n",
    "def max_pool(x, name):\n",
    "    return tf.nn.max_pool(x, ksize=[1, 2, 2, 1], strides=[1, 2, 2, 1], padding='SAME', name=name)\n",
    "\n"
   ]
  },
  {
   "cell_type": "code",
   "execution_count": 6,
   "metadata": {},
   "outputs": [],
   "source": [
    "\n",
    "# A way to input images (as 784 element arrays of pixel values 0 - 1)\n",
    "x_input = tf.placeholder(dtype=tf.float32, shape=[None, 784], name='x_input')\n",
    "# A way to input labels to show model what the correct answer is during training\n",
    "y_input = tf.placeholder(dtype=tf.float32, shape=[None, 10], name='y_input')\n",
    "\n",
    "# First convolutional layer - reshape/resize images\n",
    "# A weight variable that examines batches of 5x5 pixels, returns 32 features (1 feature per bit value in 32 bit float)\n",
    "W_conv1 = weight_variable([5, 5, 1, 32], 'W_conv1')\n",
    "# Bias variable to add to each of the 32 features\n",
    "b_conv1 = biases_variable([32], 'b_conv1')\n",
    "# Reshape each input image into a 28 x 28 x 1 pixel matrix\n",
    "x_image = tf.reshape(x_input, [-1, 28, 28, 1], name='x_image')\n",
    "# Flattens filter (W_conv1) to [5 * 5 * 1, 32], multiplies by [None, 28, 28, 1] to associate each 5x5 batch with the\n",
    "# 32 features, and adds biases\n",
    "h_conv1 = tf.nn.relu(conv_2d(x_image, W_conv1, name='conv1') + b_conv1, name='h_conv1')\n",
    "# Takes windows of size 2x2 and computes a reduction on the output of h_conv1 (computes max, used for better prediction)\n",
    "# Images are reduced to size 14 x 14 for analysis\n",
    "h_pool1 = max_pool(h_conv1, name='h_pool1')\n",
    "\n",
    "# Second convolutional layer, reshape/resize images\n",
    "# Does mostly the same as above but converts each 32 unit output tensor from layer 1 to a 64 feature tensor\n",
    "W_conv2 = weight_variable([5, 5, 32, 64], 'W_conv2')\n",
    "b_conv2 = biases_variable([64], 'b_conv2')\n",
    "h_conv2 = tf.nn.relu(conv_2d(h_pool1, W_conv2, name='conv2') + b_conv2, name='h_conv2')\n",
    "# Images at this point are reduced to size 7 x 7 for analysis\n",
    "h_pool2 = max_pool(h_conv2, name='h_pool2')\n",
    "\n",
    "# First dense layer, performing calculation based on previous layer output\n",
    "# Each image is 7 x 7 at the end of the previous section and outputs 64 features, we want 32 x 32 neurons = 1024\n",
    "W_dense1 = weight_variable([7 * 7 * 64, 1024], name='W_dense1')\n",
    "# bias variable added to each output feature\n",
    "b_dense1 = biases_variable([1024], name='b_dense1')\n",
    "# Flatten each of the images into size [None, 7 x 7 x 64]\n",
    "h_pool_flat = tf.reshape(h_pool2, [-1, 7 * 7 * 64], name='h_pool_flat')\n",
    "# Multiply weights by the outputs of the flatten neuron and add biases\n",
    "h_dense1 = tf.nn.relu(tf.matmul(h_pool_flat, W_dense1, name='matmul_dense1') + b_dense1, name='h_dense1')\n",
    "\n",
    "# Dropout layer prevents overfitting or recognizing patterns where none exist\n",
    "# Depending on what value we enter into keep_prob, it will apply or not apply dropout layer\n",
    "keep_prob = tf.placeholder(dtype=tf.float32, name='keep_prob')\n",
    "# Dropout layer will be applied during training but not testing or predicting\n",
    "h_drop1 = tf.nn.dropout(h_dense1, keep_prob, name='h_drop1')\n",
    "\n",
    "# Readout layer used to format output\n",
    "# Weight variable takes inputs from each of the 1024 neurons from before and outputs an array of 10 elements\n",
    "W_readout1 = weight_variable([1024, 10], name='W_readout1')\n",
    "# Apply bias to each of the 10 outputs\n",
    "b_readout1 = biases_variable([10], name='b_readout1')\n",
    "# Perform final calculation by multiplying each of the neurons from dropout layer by weights and adding biases\n",
    "y_readout1 = tf.add(tf.matmul(h_drop1, W_readout1, name='matmul_readout1'), b_readout1, name='y_readout1')\n",
    "\n",
    "# Softmax cross entropy loss function compares expected answers (labels) vs actual answers (logits)\n",
    "cross_entropy_loss = tf.reduce_mean(tf.nn.softmax_cross_entropy_with_logits(labels=y_input, logits=y_readout1))\n",
    "# Adam optimizer aims to minimize loss\n",
    "train_step = tf.train.AdamOptimizer(0.0001).minimize(cross_entropy_loss)\n",
    "# Compare actual vs expected outputs to see if highest number is at the same index, true if they match and false if not\n",
    "correct_prediction = tf.equal(tf.argmax(y_input, 1), tf.argmax(y_readout1, 1))\n",
    "accuracy = tf.reduce_mean(tf.cast(correct_prediction, tf.float32))\n",
    "\n"
   ]
  },
  {
   "cell_type": "code",
   "execution_count": 8,
   "metadata": {},
   "outputs": [
    {
     "name": "stdout",
     "output_type": "stream",
     "text": [
      "step 0, training accuracy 0.14\n",
      "step 100, training accuracy 0.82\n",
      "step 200, training accuracy 0.9\n",
      "step 300, training accuracy 0.9\n",
      "step 400, training accuracy 0.88\n",
      "test accuracy 0.9474\n",
      "[[-1.160005  -3.0240488  0.1862918  2.2043505 -2.310218  -1.217644\n",
      "  -3.8390129 12.477299  -1.0565896  3.057831 ]]\n"
     ]
    }
   ],
   "source": [
    "# Used to save the graph and weights\n",
    "saver = tf.train.Saver()\n",
    "\n",
    "# Run in with statement so session only exists within it\n",
    "with tf.Session() as sess:\n",
    "    sess.run(tf.global_variables_initializer())\n",
    "\n",
    "    # Save the graph shape and node names to pbtxt file\n",
    "    tf.train.write_graph(sess.graph_def, '.', 'advanced_mnist.pbtxt', False)\n",
    "\n",
    "    # Train the model, running through data 20000 times in batches of 50\n",
    "    # Print out step # and accuracy every 100 steps and final accuracy at the end of training\n",
    "    # Train by running train_step and apply dropout by setting keep_prob to 0.5\n",
    "    for i in range(500):\n",
    "        batch = mnist_data.train.next_batch(50)\n",
    "        if i % 100 == 0:\n",
    "            train_accuracy = accuracy.eval(feed_dict={x_input: batch[0], y_input: batch[1], keep_prob: 1.0})\n",
    "            print(\"step %d, training accuracy %g\" %(i, train_accuracy))\n",
    "        train_step.run(feed_dict={x_input: batch[0], y_input: batch[1], keep_prob: 0.5})\n",
    "    print(\"test accuracy %g\" % accuracy.eval(feed_dict={x_input: mnist_data.test.images,\n",
    "                                                        y_input: mnist_data.test.labels, keep_prob: 1.0}))\n",
    "\n",
    "    # Save the session with graph shape and node weights\n",
    "    saver.save(sess, 'advanced_mnist.ckpt')\n",
    "\n",
    "    # Make a prediction\n",
    "    print(sess.run(y_readout1, feed_dict={x_input: [mnist_data.test.images[0]], keep_prob: 1.0}))"
   ]
  },
  {
   "cell_type": "code",
   "execution_count": null,
   "metadata": {},
   "outputs": [],
   "source": []
  },
  {
   "cell_type": "code",
   "execution_count": null,
   "metadata": {},
   "outputs": [],
   "source": []
  }
 ],
 "metadata": {
  "kernelspec": {
   "display_name": "Python 3",
   "language": "python",
   "name": "python3"
  },
  "language_info": {
   "codemirror_mode": {
    "name": "ipython",
    "version": 3
   },
   "file_extension": ".py",
   "mimetype": "text/x-python",
   "name": "python",
   "nbconvert_exporter": "python",
   "pygments_lexer": "ipython3",
   "version": "3.7.1"
  }
 },
 "nbformat": 4,
 "nbformat_minor": 2
}
